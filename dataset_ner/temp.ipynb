{
    "cells": [
        {
            "cell_type": "code",
            "execution_count": 1,
            "metadata": {},
            "outputs": [],
            "source": [
                "from ner_pipeline import *"
            ]
        },
        {
            "cell_type": "code",
            "execution_count": 4,
            "metadata": {},
            "outputs": [
                {
                    "name": "stdout",
                    "output_type": "stream",
                    "text": [
                        "Training set size:  1134 , Testing set size:  201\n"
                    ]
                }
            ],
            "source": [
                "T = NER_AND_AL_Pipeline(training_data_path='../db/annotations/annotations.csv', model_to_train='bert')"
            ]
        },
        {
            "cell_type": "code",
            "execution_count": 5,
            "metadata": {},
            "outputs": [
                {
                    "name": "stdout",
                    "output_type": "stream",
                    "text": [
                        "saved\n",
                        "# non aligned  80\n"
                    ]
                }
            ],
            "source": [
                "T.word_embedding()"
            ]
        },
        {
            "cell_type": "code",
            "execution_count": 6,
            "metadata": {},
            "outputs": [
                {
                    "name": "stderr",
                    "output_type": "stream",
                    "text": [
                        " 1/4 loss:  5.82: 100%|██████████| 33/33 [01:05<00:00,  1.97s/it]\n",
                        " 2/4 loss:  1.40: 100%|██████████| 33/33 [01:03<00:00,  1.93s/it]\n",
                        " 3/4 loss:  2.00: 100%|██████████| 33/33 [01:05<00:00,  1.97s/it]\n",
                        " 4/4 loss:  1.65: 100%|██████████| 33/33 [01:06<00:00,  2.00s/it]\n"
                    ]
                }
            ],
            "source": [
                "T.build_bilstm_crf()"
            ]
        },
        {
            "cell_type": "code",
            "execution_count": 7,
            "metadata": {},
            "outputs": [
                {
                    "data": {
                        "text/plain": [
                            "BiLSTMCRF(\n",
                            "  (word_embedding): Embedding(400005, 300)\n",
                            "  (bilstm): LSTM(300, 50, num_layers=2, batch_first=True, bidirectional=True)\n",
                            "  (hidden2tag): Linear(in_features=100, out_features=256, bias=True)\n",
                            "  (crf): CRF(\n",
                            "    (fc): Linear(in_features=100, out_features=64, bias=True)\n",
                            "  )\n",
                            ")"
                        ]
                    },
                    "execution_count": 7,
                    "metadata": {},
                    "output_type": "execute_result"
                }
            ],
            "source": [
                "getattr(T, 'model')"
            ]
        },
        {
            "cell_type": "code",
            "execution_count": 8,
            "metadata": {},
            "outputs": [
                {
                    "name": "stdout",
                    "output_type": "stream",
                    "text": [
                        "{0: 'B-DATASET_NAME', 1: 'I-DATASET_NAME', 2: 'L-DATASET_NAME', 3: 'U-DATASET_NAME', 4: 'O', 5: '[PAD]', 6: '[CLS]', 7: '[SEP]', 8: 'X'}\n",
                        "{0: 'B-DATASET_NAME', 1: 'I-DATASET_NAME', 2: 'L-DATASET_NAME', 3: 'U-DATASET_NAME', 4: 'O', 5: '[PAD]', 6: '[CLS]', 7: '[SEP]', 8: 'X'}\n"
                    ]
                },
                {
                    "name": "stderr",
                    "output_type": "stream",
                    "text": [
                        "/Users/spezzata/opt/anaconda3/lib/python3.7/site-packages/seqeval/metrics/sequence_labeling.py:171: UserWarning: L-DATASET_NAME seems not to be NE tag.\n",
                        "  warnings.warn('{} seems not to be NE tag.'.format(chunk))\n",
                        "/Users/spezzata/opt/anaconda3/lib/python3.7/site-packages/seqeval/metrics/sequence_labeling.py:171: UserWarning: U-DATASET_NAME seems not to be NE tag.\n",
                        "  warnings.warn('{} seems not to be NE tag.'.format(chunk))\n"
                    ]
                },
                {
                    "name": "stdout",
                    "output_type": "stream",
                    "text": [
                        "Classification report(Entity level):\n",
                        "              precision    recall  f1-score   support\n",
                        "\n",
                        "DATASET_NAME       0.85      0.49      0.62       140\n",
                        "\n",
                        "   micro avg       0.85      0.49      0.62       140\n",
                        "   macro avg       0.85      0.49      0.62       140\n",
                        "weighted avg       0.85      0.49      0.62       140\n",
                        "\n",
                        "Sentence-level Accuracy: 0.6104651162790697\n"
                    ]
                },
                {
                    "data": {
                        "text/plain": [
                            "(0.6181818181818183, 0.6104651162790697)"
                        ]
                    },
                    "execution_count": 8,
                    "metadata": {},
                    "output_type": "execute_result"
                }
            ],
            "source": [
                "T.predict_eval()"
            ]
        },
        {
            "cell_type": "code",
            "execution_count": 7,
            "metadata": {},
            "outputs": [],
            "source": [
                "import pickle\n",
                "#pickle.dump(mod, open('BiLSTMCRF_model1.sav', 'wb'))"
            ]
        },
        {
            "cell_type": "code",
            "execution_count": 16,
            "metadata": {},
            "outputs": [],
            "source": [
                "preds = getattr(T, 'tag_seq')\n",
                "preds_vec = getattr(T, 'tag_seq_')\n",
                "y_val = getattr(T, 'y_val_')\n",
                "eval_ = getattr(T, 'eval')"
            ]
        }
    ],
    "metadata": {
        "interpreter": {
            "hash": "072457ac0962bab7ab9ca633141fb2b7a791a5c6e8d0af72d5f8437273eaa275"
        },
        "kernelspec": {
            "display_name": "Python 3.7.4 64-bit ('base': conda)",
            "name": "python3"
        },
        "language_info": {
            "codemirror_mode": {
                "name": "ipython",
                "version": 3
            },
            "file_extension": ".py",
            "mimetype": "text/x-python",
            "name": "python",
            "nbconvert_exporter": "python",
            "pygments_lexer": "ipython3",
            "version": "3.7.4"
        },
        "orig_nbformat": 4
    },
    "nbformat": 4,
    "nbformat_minor": 2
}
